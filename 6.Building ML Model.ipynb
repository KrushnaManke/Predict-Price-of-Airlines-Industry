{
 "cells": [
  {
   "cell_type": "code",
   "execution_count": null,
   "id": "c98ddf5b",
   "metadata": {},
   "outputs": [],
   "source": []
  },
  {
   "cell_type": "code",
   "execution_count": null,
   "id": "a278b904",
   "metadata": {},
   "outputs": [],
   "source": []
  },
  {
   "cell_type": "markdown",
   "id": "dca6b413",
   "metadata": {},
   "source": [
    "## Lets Build ML model"
   ]
  },
  {
   "cell_type": "markdown",
   "id": "5e04a941",
   "metadata": {},
   "source": [
    "#### i)split dataset into train & test"
   ]
  },
  {
   "cell_type": "code",
   "execution_count": 146,
   "id": "c9611100",
   "metadata": {},
   "outputs": [],
   "source": [
    "from sklearn.model_selection import train_test_split"
   ]
  },
  {
   "cell_type": "code",
   "execution_count": 147,
   "id": "2db5d84d",
   "metadata": {},
   "outputs": [],
   "source": [
    "X_train, X_test, y_train, y_test = train_test_split(\n",
    "   X, y, test_size=0.25, random_state=42)"
   ]
  },
  {
   "cell_type": "markdown",
   "id": "6cc06393",
   "metadata": {},
   "source": [
    "#### what we often do in modelling:\n",
    "\n",
    "    a..Initially ,lets build basic random model.\n",
    "    b..then later-on , we will try to improve this model using some parameters..\n",
    "    c..Then we will try to improve it..\n",
    "    d..Then we will hyper-tune my model to get optimal value of parameters in order to achieve optimal value of params.."
   ]
  },
  {
   "cell_type": "code",
   "execution_count": 148,
   "id": "d5ccb9a7",
   "metadata": {},
   "outputs": [],
   "source": [
    "from sklearn.ensemble import RandomForestRegressor"
   ]
  },
  {
   "cell_type": "code",
   "execution_count": 149,
   "id": "926aae23",
   "metadata": {},
   "outputs": [],
   "source": [
    "ml_model = RandomForestRegressor()"
   ]
  },
  {
   "cell_type": "code",
   "execution_count": 150,
   "id": "1640dfaa",
   "metadata": {},
   "outputs": [
    {
     "data": {
      "text/plain": [
       "RandomForestRegressor()"
      ]
     },
     "execution_count": 150,
     "metadata": {},
     "output_type": "execute_result"
    }
   ],
   "source": [
    "ml_model.fit(X_train , y_train)"
   ]
  },
  {
   "cell_type": "code",
   "execution_count": null,
   "id": "3a636d57",
   "metadata": {},
   "outputs": [],
   "source": []
  },
  {
   "cell_type": "code",
   "execution_count": 151,
   "id": "b8239fec",
   "metadata": {},
   "outputs": [],
   "source": [
    "y_pred = ml_model.predict(X_test)"
   ]
  },
  {
   "cell_type": "code",
   "execution_count": 152,
   "id": "6bd3d49d",
   "metadata": {},
   "outputs": [
    {
     "data": {
      "text/plain": [
       "array([16744.87,  6291.59,  8840.03, ...,  3528.6 ,  6461.49,  6785.11])"
      ]
     },
     "execution_count": 152,
     "metadata": {},
     "output_type": "execute_result"
    }
   ],
   "source": [
    "y_pred"
   ]
  },
  {
   "cell_type": "code",
   "execution_count": null,
   "id": "e600b7b9",
   "metadata": {},
   "outputs": [],
   "source": []
  },
  {
   "cell_type": "code",
   "execution_count": 153,
   "id": "13863428",
   "metadata": {},
   "outputs": [],
   "source": [
    "from sklearn import metrics"
   ]
  },
  {
   "cell_type": "code",
   "execution_count": 154,
   "id": "5db39a85",
   "metadata": {},
   "outputs": [
    {
     "data": {
      "text/plain": [
       "0.8061777476681846"
      ]
     },
     "execution_count": 154,
     "metadata": {},
     "output_type": "execute_result"
    }
   ],
   "source": [
    "metrics.r2_score(y_test , y_pred)"
   ]
  },
  {
   "cell_type": "code",
   "execution_count": null,
   "id": "a1e7ff77",
   "metadata": {},
   "outputs": [],
   "source": []
  },
  {
   "cell_type": "code",
   "execution_count": null,
   "id": "1dd77d3e",
   "metadata": {},
   "outputs": [],
   "source": []
  },
  {
   "cell_type": "markdown",
   "id": "41c2b255",
   "metadata": {},
   "source": [
    "### ii) Lets Save model"
   ]
  },
  {
   "cell_type": "markdown",
   "id": "0ca54f1c",
   "metadata": {},
   "source": [
    "#### lets try to dump ml model using pickle or joblib..\n",
    "    advantage of dumping--\n",
    "    imagine in future we have new data & lets say we have to predict price on this huge data\n",
    "\n",
    "    then to do prediction on this new data , we can use this pre-trained model what we have dumped..\n"
   ]
  },
  {
   "cell_type": "code",
   "execution_count": null,
   "id": "9e1fd555",
   "metadata": {},
   "outputs": [],
   "source": [
    "!pip install pickle"
   ]
  },
  {
   "cell_type": "code",
   "execution_count": 155,
   "id": "74dbd0d5",
   "metadata": {},
   "outputs": [],
   "source": [
    "import pickle"
   ]
  },
  {
   "cell_type": "code",
   "execution_count": 156,
   "id": "c15e0b8a",
   "metadata": {},
   "outputs": [],
   "source": [
    "# open a file, where you want to store the data\n",
    "file = open(r'Z:\\Flight_Price\\Datasets/rf_random.pkl' , 'wb')"
   ]
  },
  {
   "cell_type": "code",
   "execution_count": 157,
   "id": "d5c62b74",
   "metadata": {},
   "outputs": [],
   "source": [
    "# dump information to that file\n",
    "pickle.dump(ml_model , file)"
   ]
  },
  {
   "cell_type": "code",
   "execution_count": null,
   "id": "8bf094c1",
   "metadata": {},
   "outputs": [],
   "source": []
  },
  {
   "cell_type": "code",
   "execution_count": 158,
   "id": "6f24b246",
   "metadata": {},
   "outputs": [],
   "source": [
    "model = open(r'Z:\\Flight_Price\\Datasets/rf_random.pkl' , 'rb')"
   ]
  },
  {
   "cell_type": "code",
   "execution_count": 159,
   "id": "5977e9b6",
   "metadata": {},
   "outputs": [],
   "source": [
    "forest = pickle.load(model)"
   ]
  },
  {
   "cell_type": "code",
   "execution_count": 161,
   "id": "cf573d7a",
   "metadata": {},
   "outputs": [],
   "source": [
    "y_pred2 = forest.predict(X_test)"
   ]
  },
  {
   "cell_type": "code",
   "execution_count": 162,
   "id": "7345d7d3",
   "metadata": {},
   "outputs": [
    {
     "data": {
      "text/plain": [
       "0.8061777476681846"
      ]
     },
     "execution_count": 162,
     "metadata": {},
     "output_type": "execute_result"
    }
   ],
   "source": [
    "metrics.r2_score(y_test , y_pred2)"
   ]
  },
  {
   "cell_type": "code",
   "execution_count": null,
   "id": "57de04db",
   "metadata": {},
   "outputs": [],
   "source": []
  },
  {
   "cell_type": "code",
   "execution_count": null,
   "id": "4a316145",
   "metadata": {},
   "outputs": [],
   "source": []
  },
  {
   "cell_type": "markdown",
   "id": "474455be",
   "metadata": {},
   "source": [
    "## How to automate ml pipeline & How to define your Evaluation metric.."
   ]
  },
  {
   "cell_type": "markdown",
   "id": "94076bfd",
   "metadata": {},
   "source": [
    "### i) how to make our own metric..."
   ]
  },
  {
   "cell_type": "code",
   "execution_count": 163,
   "id": "ef4c3439",
   "metadata": {},
   "outputs": [],
   "source": [
    "def mape(y_true , y_pred):\n",
    "    y_true , y_pred = np.array(y_true) , np.array(y_pred)\n",
    "    return np.mean(np.abs((y_true - y_pred) / y_true)) * 100"
   ]
  },
  {
   "cell_type": "code",
   "execution_count": 164,
   "id": "4182bd32",
   "metadata": {},
   "outputs": [
    {
     "data": {
      "text/plain": [
       "13.247647518053313"
      ]
     },
     "execution_count": 164,
     "metadata": {},
     "output_type": "execute_result"
    }
   ],
   "source": [
    "mape(y_test , y_pred)"
   ]
  },
  {
   "cell_type": "code",
   "execution_count": null,
   "id": "3463a673",
   "metadata": {},
   "outputs": [],
   "source": []
  },
  {
   "cell_type": "markdown",
   "id": "552a569d",
   "metadata": {},
   "source": [
    "### ii) How to automate ml pipeline !"
   ]
  },
  {
   "cell_type": "code",
   "execution_count": 165,
   "id": "7b958a59",
   "metadata": {},
   "outputs": [],
   "source": [
    "from sklearn import metrics"
   ]
  },
  {
   "cell_type": "code",
   "execution_count": 166,
   "id": "0a45e6cc",
   "metadata": {},
   "outputs": [],
   "source": [
    "def predict(ml_model):\n",
    "    model = ml_model.fit(X_train , y_train)\n",
    "    print('Training score : {}'.format(model.score(X_train , y_train)))\n",
    "    y_predection = model.predict(X_test)\n",
    "    print('predictions are : {}'.format(y_predection))\n",
    "    print('\\n')\n",
    "    r2_score = metrics.r2_score(y_test , y_predection)\n",
    "    print('r2 score : {}'.format(r2_score))\n",
    "    print('MAE : {}'.format(metrics.mean_absolute_error(y_test , y_predection)))\n",
    "    print('MSE : {}'.format(metrics.mean_squared_error(y_test , y_predection)))\n",
    "    print('RMSE : {}'.format(np.sqrt(metrics.mean_squared_error(y_test , y_predection))))\n",
    "    print('MAPE : {}'.format(mape(y_test , y_predection)))\n",
    "    sns.distplot(y_test - y_predection)"
   ]
  },
  {
   "cell_type": "code",
   "execution_count": 167,
   "id": "96546ad9",
   "metadata": {},
   "outputs": [
    {
     "name": "stdout",
     "output_type": "stream",
     "text": [
      "Training score : 0.9512447050359809\n",
      "predictions are : [16753.62  6414.15  8879.07 ...  3527.02  6268.23  6908.65]\n",
      "\n",
      "\n",
      "r2 score : 0.8081762295335504\n",
      "MAE : 1186.4927309208845\n",
      "MSE : 3734348.3697542027\n",
      "RMSE : 1932.4462139356435\n",
      "MAPE : 13.304873080407178\n"
     ]
    },
    {
     "data": {
      "image/png": "[encoded data removed]",
      "text/plain": [
       "<Figure size 640x480 with 1 Axes>"
      ]
     },
     "metadata": {},
     "output_type": "display_data"
    }
   ],
   "source": [
    "predict(RandomForestRegressor())"
   ]
  },
  {
   "cell_type": "code",
   "execution_count": null,
   "id": "7988d803",
   "metadata": {},
   "outputs": [],
   "source": []
  },
  {
   "cell_type": "code",
   "execution_count": 168,
   "id": "54584804",
   "metadata": {},
   "outputs": [],
   "source": [
    "from sklearn.tree import DecisionTreeRegressor"
   ]
  },
  {
   "cell_type": "code",
   "execution_count": 169,
   "id": "fc4396fb",
   "metadata": {},
   "outputs": [
    {
     "name": "stdout",
     "output_type": "stream",
     "text": [
      "Training score : 0.966591628243878\n",
      "predictions are : [16840.  6976.  8610. ...  3419.  5797.  6818.]\n",
      "\n",
      "\n",
      "r2 score : 0.6996399141630966\n",
      "MAE : 1368.7372394858357\n",
      "MSE : 5847289.90654707\n",
      "RMSE : 2418.1170167192217\n",
      "MAPE : 15.205975817573686\n"
     ]
    },
    {
     "data": {
      "image/png": "[encoded data removed]",
      "text/plain": [
       "<Figure size 640x480 with 1 Axes>"
      ]
     },
     "metadata": {},
     "output_type": "display_data"
    }
   ],
   "source": [
    "predict(DecisionTreeRegressor())"
   ]
  },
  {
   "cell_type": "code",
   "execution_count": null,
   "id": "c0755191",
   "metadata": {},
   "outputs": [],
   "source": []
  }
 ],
 "metadata": {
  "kernelspec": {
   "display_name": "Python 3 (ipykernel)",
   "language": "python",
   "name": "python3"
  },
  "language_info": {
   "codemirror_mode": {
    "name": "ipython",
    "version": 3
   },
   "file_extension": ".py",
   "mimetype": "text/x-python",
   "name": "python",
   "nbconvert_exporter": "python",
   "pygments_lexer": "ipython3",
   "version": "3.12.4"
  },
  "vscode": {
   "interpreter": {
    "hash": "3ddb7444e2455168915a02104dd4dd6b2efe4dc8177b18327bd2aa9f782bbe94"
   }
  }
 },
 "nbformat": 4,
 "nbformat_minor": 5
}
